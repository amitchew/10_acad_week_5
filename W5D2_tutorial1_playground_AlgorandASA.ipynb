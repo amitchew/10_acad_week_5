{
  "cells": [
    {
      "cell_type": "code",
      "execution_count": 1,
      "metadata": {
        "id": "Z-SyhHdAUW-d"
      },
      "outputs": [],
      "source": [
        "import json"
      ]
    },
    {
      "cell_type": "code",
      "execution_count": 2,
      "metadata": {
        "id": "gd3pqPpBUW-i"
      },
      "outputs": [],
      "source": [
        "import base64\n",
        "import algosdk\n",
        "from algosdk.v2client import algod\n",
        "from algosdk import account, mnemonic\n",
        "from algosdk.transaction import AssetConfigTxn, AssetTransferTxn, AssetFreezeTxn\n",
        "from algosdk.transaction import *"
      ]
    },
    {
      "cell_type": "code",
      "execution_count": 3,
      "metadata": {},
      "outputs": [],
      "source": [
        "from dotenv import load_dotenv"
      ]
    },
    {
      "cell_type": "code",
      "execution_count": 4,
      "metadata": {},
      "outputs": [],
      "source": [
        "import sys, os \n",
        "sys.path.append(os.path.abspath(os.path.join(\"../..\")))\n",
        "sys.path.append(os.path.abspath(os.path.join(\"../scripts\")))"
      ]
    },
    {
      "cell_type": "markdown",
      "metadata": {
        "id": "BDaeuJvbUW-u"
      },
      "source": [
        "# Accounts"
      ]
    },
    {
      "cell_type": "code",
      "execution_count": 5,
      "metadata": {
        "id": "iTnCYBzmUW-x"
      },
      "outputs": [],
      "source": [
        "mnemonic1 = \"wish duck spin web fiber claw loyal false trap damp tortoise duty rural hungry detail stone excess clock mass phrase name fury advance able tattoo\"\n",
        "mnemonic2 = \"donate biology lonely adjust degree window unaware clinic feel denial ugly gasp spring kiwi they person cabbage guess case donate resource thumb depth abstract disagree\"\n",
        "mnemonic3 = \"ivory another airport govern muffin liquid sauce false walk humor truck build magic nephew pear prize inherit uniform hybrid label oven neck vendor able issue\""
      ]
    },
    {
      "cell_type": "code",
      "execution_count": 6,
      "metadata": {},
      "outputs": [
        {
          "data": {
            "text/plain": [
              "'5PfQo43fKqiQUFI6zw3LScRevYlH1nTaChE9asl5fUAGyOnO4zi021Kza06B03Sfh/v6AsNXbHR6mmSW5EU+yw=='"
            ]
          },
          "execution_count": 6,
          "metadata": {},
          "output_type": "execute_result"
        }
      ],
      "source": [
        "mnemonic.to_private_key(mnemonic1)"
      ]
    },
    {
      "cell_type": "code",
      "execution_count": 7,
      "metadata": {
        "id": "1BXsVVSOUW-y"
      },
      "outputs": [],
      "source": [
        "# For ease of reference, add account public and private keys to\n",
        "# an accounts dict.\n",
        "accounts = {}\n",
        "counter = 1\n",
        "for m in [mnemonic1, mnemonic2, mnemonic3]:\n",
        "    accounts[counter] = {}\n",
        "    # accounts[counter]['pk'] = mnemonic.to_public_key(m)\n",
        "    accounts[counter]['sk'] = mnemonic.to_private_key(m)\n",
        "\n",
        "    accounts[counter]['pk'] =algosdk.account.address_from_private_key(accounts[counter]['sk'])\n",
        "\n",
        "\n",
        "    counter += 1"
      ]
    },
    {
      "cell_type": "markdown",
      "metadata": {
        "id": "Q-ca0OBUUW-z"
      },
      "source": [
        "# Connect to Client"
      ]
    },
    {
      "cell_type": "code",
      "execution_count": 8,
      "metadata": {
        "id": "atHJNIEgUW-z"
      },
      "outputs": [],
      "source": [
        "# Specify the node address and token.\n",
        "\n",
        "algod_address = \"http://localhost:4001\"\n",
        "algod_token = \"aaaaaaaaaaaaaaaaaaaaaaaaaaaaaaaaaaaaaaaaaaaaaaaaaaaaaaaaaaaaaaaa\"\n",
        "\n",
        "# Initialize an algod client\n",
        "algod_client = algod.AlgodClient(algod_token=algod_token, algod_address=algod_address)"
      ]
    },
    {
      "cell_type": "code",
      "execution_count": 9,
      "metadata": {
        "id": "kJFRmsF8UW-0",
        "outputId": "3d9ee497-d73a-42e9-ad16-9f262394c431"
      },
      "outputs": [
        {
          "name": "stdout",
          "output_type": "stream",
          "text": [
            "Account 1 address: A3EOTTXDHC2NWUVTNNHIDU3UT6D7X6QCYNLWY5D2TJSJNZCFH3FYXDOC6U\n",
            "Account 2 address: IW6MG6R6WRHA422TFQI3A4PMVEPLFJBZL7CWCYVCKS5VL2D6VZGOFNJWPE\n"
          ]
        }
      ],
      "source": [
        "print(\"Account 1 address: {}\".format(accounts[1]['pk']))\n",
        "print(\"Account 2 address: {}\".format(accounts[2]['pk']))"
      ]
    },
    {
      "cell_type": "markdown",
      "metadata": {
        "id": "POehV2rTUW-2"
      },
      "source": [
        "# Create Asset (Minting)"
      ]
    },
    {
      "cell_type": "markdown",
      "metadata": {
        "id": "ktmF7VwBUW-2"
      },
      "source": [
        "* Account 1 creates an asset called latinum and\n",
        "* sets Account 2 as the manager, reserve, freeze, and clawback address."
      ]
    },
    {
      "cell_type": "code",
      "execution_count": 10,
      "metadata": {
        "id": "OAPMQg9YUW-3"
      },
      "outputs": [],
      "source": [
        "# Get network params for transactions before every transaction.\n",
        "params = algod_client.suggested_params()\n",
        "\n",
        "# Account 1 creates an asset called latinum and\n",
        "# sets Account 2 as the manager, reserve, freeze, and clawback address.\n",
        "# Asset Creation transaction\n",
        "\n",
        "txn = AssetConfigTxn(\n",
        "    sender=accounts[1]['pk'],\n",
        "    sp=params,\n",
        "    total=1000,\n",
        "    default_frozen=False,\n",
        "    unit_name=\"LATINUM\",\n",
        "    asset_name=\"latinum\",\n",
        "    \n",
        "    manager=accounts[1]['pk'],\n",
        "    reserve=accounts[1]['pk'],\n",
        "    freeze=accounts[1]['pk'], \n",
        "    clawback=accounts[1]['pk'],\n",
        "\n",
        "\n",
        "    url=\"https://path/to/my/asset/details\",\n",
        "    decimals=0)\n",
        "\n",
        "# Sign with secret key of creator\n",
        "stxn = txn.sign(accounts[1]['sk'])\n"
      ]
    },
    {
      "cell_type": "code",
      "execution_count": 11,
      "metadata": {
        "id": "KPP2wyxcUW-3",
        "outputId": "14dc96d5-d517-4764-c1d6-94c32de76289"
      },
      "outputs": [
        {
          "name": "stdout",
          "output_type": "stream",
          "text": [
            "Signed transaction with txID: SZH7EAFKW33NZUWVRTTBGJNVZTLT6Y3WYUGN52YO22WJTJALS4DA\n",
            "TXID:  SZH7EAFKW33NZUWVRTTBGJNVZTLT6Y3WYUGN52YO22WJTJALS4DA\n",
            "Result confirmed in round: 4\n"
          ]
        }
      ],
      "source": [
        "# Send the transaction to the network and retrieve the txid.\n",
        "try:\n",
        "    txid = algod_client.send_transaction(stxn)\n",
        "    print(\"Signed transaction with txID: {}\".format(txid))\n",
        "    # Wait for the transaction to be confirmed\n",
        "    confirmed_txn = wait_for_confirmation(algod_client, txid, 4)\n",
        "    print(\"TXID: \", txid)\n",
        "    print(\"Result confirmed in round: {}\".format(confirmed_txn['confirmed-round']))\n",
        "\n",
        "except Exception as err:\n",
        "    print(err)\n",
        "# Retrieve the asset ID of the newly created asset by first\n",
        "# ensuring that the creation transaction was confirmed,\n",
        "# then grabbing the asset id from the transaction."
      ]
    },
    {
      "cell_type": "code",
      "execution_count": 12,
      "metadata": {
        "id": "Aeccg4LmUW-4",
        "outputId": "861e89d1-8a60-4d2f-a608-dbdc4eee9a8c"
      },
      "outputs": [
        {
          "name": "stdout",
          "output_type": "stream",
          "text": [
            "Transaction information: {\n",
            "    \"asset-index\": 1004,\n",
            "    \"confirmed-round\": 4,\n",
            "    \"pool-error\": \"\",\n",
            "    \"txn\": {\n",
            "        \"sig\": \"cLLZODof7Yj/rILE0mpQMNat+FnEppvdmNb40uTKRFCO0iEjxjs5P+tXEWGQCAHjz8ojEdy3mDANa2dxC9T5Bw==\",\n",
            "        \"txn\": {\n",
            "            \"apar\": {\n",
            "                \"an\": \"latinum\",\n",
            "                \"au\": \"https://path/to/my/asset/details\",\n",
            "                \"c\": \"A3EOTTXDHC2NWUVTNNHIDU3UT6D7X6QCYNLWY5D2TJSJNZCFH3FYXDOC6U\",\n",
            "                \"f\": \"A3EOTTXDHC2NWUVTNNHIDU3UT6D7X6QCYNLWY5D2TJSJNZCFH3FYXDOC6U\",\n",
            "                \"m\": \"A3EOTTXDHC2NWUVTNNHIDU3UT6D7X6QCYNLWY5D2TJSJNZCFH3FYXDOC6U\",\n",
            "                \"r\": \"A3EOTTXDHC2NWUVTNNHIDU3UT6D7X6QCYNLWY5D2TJSJNZCFH3FYXDOC6U\",\n",
            "                \"t\": 1000,\n",
            "                \"un\": \"LATINUM\"\n",
            "            },\n",
            "            \"fee\": 1000,\n",
            "            \"fv\": 3,\n",
            "            \"gen\": \"sandnet-v1\",\n",
            "            \"gh\": \"FgyrZ8W3zu8N0GqSOokoiiLxUVU7SnUM67vBZLKKv5I=\",\n",
            "            \"lv\": 1003,\n",
            "            \"snd\": \"A3EOTTXDHC2NWUVTNNHIDU3UT6D7X6QCYNLWY5D2TJSJNZCFH3FYXDOC6U\",\n",
            "            \"type\": \"acfg\"\n",
            "        }\n",
            "    }\n",
            "}\n"
          ]
        }
      ],
      "source": [
        "print(\"Transaction information: {}\".format(\n",
        "    json.dumps(confirmed_txn, indent=4)))"
      ]
    },
    {
      "cell_type": "code",
      "execution_count": 16,
      "metadata": {
        "id": "npJBR4VFUW-4"
      },
      "outputs": [],
      "source": [
        "#   Utility function used to print created asset for account and assetid\n",
        "def print_created_asset(algodclient, account, assetid):\n",
        "    # note: if you have an indexer instance available it is easier to just use this\n",
        "    # response = myindexer.accounts(asset_id = assetid)\n",
        "    # then use 'account_info['created-assets'][0] to get info on the created asset\n",
        "    account_info = algodclient.account_info(account)\n",
        "    idx = 0;\n",
        "    for my_account_info in account_info['created-assets']:\n",
        "        scrutinized_asset = account_info['created-assets'][idx]\n",
        "        idx = idx + 1\n",
        "        if (scrutinized_asset['index'] == assetid):\n",
        "            print(\"Asset ID: {}\".format(scrutinized_asset['index']))\n",
        "            print(json.dumps(my_account_info['params'], indent=4))\n",
        "            break\n",
        "\n",
        "#   Utility function used to print asset holding for account and assetid\n",
        "def print_asset_holding(algodclient, account, assetid):\n",
        "    # note: if you have an indexer instance available it is easier to just use this\n",
        "    # response = myindexer.accounts(asset_id = assetid)\n",
        "    # then loop thru the accounts returned and match the account you are looking for\n",
        "    account_info = algodclient.account_info(account)\n",
        "    idx = 0\n",
        "    for my_account_info in account_info['assets']:\n",
        "        scrutinized_asset = account_info['assets'][idx]\n",
        "        idx = idx + 1\n",
        "        if (scrutinized_asset['asset-id'] == assetid):\n",
        "            print(\"Asset ID: {}\".format(scrutinized_asset['asset-id']))\n",
        "            print(json.dumps(scrutinized_asset, indent=4))\n",
        "            break\n"
      ]
    },
    {
      "cell_type": "code",
      "execution_count": 17,
      "metadata": {
        "id": "dIw8bmXoUW-4",
        "outputId": "5b8fc7db-7030-4c3c-a7c7-5ecb15214591"
      },
      "outputs": [
        {
          "name": "stdout",
          "output_type": "stream",
          "text": [
            "Asset ID: 1004\n",
            "{\n",
            "    \"clawback\": \"A3EOTTXDHC2NWUVTNNHIDU3UT6D7X6QCYNLWY5D2TJSJNZCFH3FYXDOC6U\",\n",
            "    \"creator\": \"A3EOTTXDHC2NWUVTNNHIDU3UT6D7X6QCYNLWY5D2TJSJNZCFH3FYXDOC6U\",\n",
            "    \"decimals\": 0,\n",
            "    \"default-frozen\": false,\n",
            "    \"freeze\": \"A3EOTTXDHC2NWUVTNNHIDU3UT6D7X6QCYNLWY5D2TJSJNZCFH3FYXDOC6U\",\n",
            "    \"manager\": \"A3EOTTXDHC2NWUVTNNHIDU3UT6D7X6QCYNLWY5D2TJSJNZCFH3FYXDOC6U\",\n",
            "    \"name\": \"latinum\",\n",
            "    \"name-b64\": \"bGF0aW51bQ==\",\n",
            "    \"reserve\": \"A3EOTTXDHC2NWUVTNNHIDU3UT6D7X6QCYNLWY5D2TJSJNZCFH3FYXDOC6U\",\n",
            "    \"total\": 1000,\n",
            "    \"unit-name\": \"LATINUM\",\n",
            "    \"unit-name-b64\": \"TEFUSU5VTQ==\",\n",
            "    \"url\": \"https://path/to/my/asset/details\",\n",
            "    \"url-b64\": \"aHR0cHM6Ly9wYXRoL3RvL215L2Fzc2V0L2RldGFpbHM=\"\n",
            "}\n",
            "Asset ID: 1004\n",
            "{\n",
            "    \"amount\": 1000,\n",
            "    \"asset-id\": 1004,\n",
            "    \"is-frozen\": false\n",
            "}\n"
          ]
        }
      ],
      "source": [
        "try:\n",
        "    # Pull account info for the creator\n",
        "    # account_info = algod_client.account_info(accounts[1]['pk'])\n",
        "    # get asset_id from tx\n",
        "    # Get the new asset's information from the creator account\n",
        "    ptx = algod_client.pending_transaction_info(txid)\n",
        "    asset_id = ptx[\"asset-index\"]\n",
        "    print_created_asset(algod_client, accounts[1]['pk'], asset_id)\n",
        "    print_asset_holding(algod_client, accounts[1]['pk'], asset_id)\n",
        "except Exception as e:\n",
        "    print(e)"
      ]
    },
    {
      "cell_type": "markdown",
      "metadata": {
        "id": "ew8jMAtYUW-5"
      },
      "source": [
        "# Change the Manager"
      ]
    },
    {
      "cell_type": "markdown",
      "metadata": {
        "id": "vniTQnqUUW-5"
      },
      "source": [
        "The current manager(Account 2) issues an asset configuration transaction that assigns Account 1 as the new manager."
      ]
    },
    {
      "cell_type": "code",
      "execution_count": null,
      "metadata": {
        "id": "dGcdTEhaUW-5"
      },
      "outputs": [],
      "source": [
        "# Keep reserve, freeze, and clawback address same as before, i.e. account 2\n",
        "params = algod_client.suggested_params()\n",
        "# comment these two lines if you want to use suggested params\n",
        "# params.fee = 1000\n",
        "# params.flat_fee = True\n",
        "\n",
        "# asset_id = 328952;\n",
        "\n",
        "txn = AssetConfigTxn(\n",
        "    sender=accounts[1]['pk'],\n",
        "    sp=params,\n",
        "    index=asset_id,\n",
        "    manager=accounts[3]['pk'],\n",
        "    reserve=accounts[1]['pk'],\n",
        "    freeze=accounts[1]['pk'],\n",
        "    clawback=accounts[1]['pk'])\n",
        "# sign by the current manager - Account 2\n",
        "stxn = txn.sign(accounts[1]['sk'])\n",
        "# txid = algod_client.send_transaction(stxn)\n",
        "# print(txid)"
      ]
    },
    {
      "cell_type": "code",
      "execution_count": null,
      "metadata": {
        "id": "Uu5UNDYsUW-5",
        "outputId": "0bb8def4-78fe-43b1-c381-c9f34a26082f"
      },
      "outputs": [
        {
          "name": "stdout",
          "output_type": "stream",
          "text": [
            "Signed transaction with txID: UGAG7ARQ3XPWAVVMERIQGGVNSI6R24PB6I6UJCEONR5GTMSYVJFA\n",
            "TXID:  UGAG7ARQ3XPWAVVMERIQGGVNSI6R24PB6I6UJCEONR5GTMSYVJFA\n",
            "Result confirmed in round: 7\n"
          ]
        }
      ],
      "source": [
        "# Wait for the transaction to be confirmed\n",
        "# Send the transaction to the network and retrieve the txid.\n",
        "try:\n",
        "    txid = algod_client.send_transaction(stxn)\n",
        "    print(\"Signed transaction with txID: {}\".format(txid))\n",
        "    # Wait for the transaction to be confirmed\n",
        "    confirmed_txn = wait_for_confirmation(algod_client, txid, 4)\n",
        "    print(\"TXID: \", txid)\n",
        "    print(\"Result confirmed in round: {}\".format(confirmed_txn['confirmed-round']))\n",
        "\n",
        "except Exception as err:\n",
        "    print(err)"
      ]
    },
    {
      "cell_type": "code",
      "execution_count": null,
      "metadata": {
        "id": "D1TVmwr9UW-5"
      },
      "outputs": [],
      "source": [
        "# Check asset info to view change in management. manager should now be account 1\n",
        "print_created_asset(algod_client, accounts[3]['pk'], asset_id)"
      ]
    },
    {
      "cell_type": "markdown",
      "metadata": {
        "id": "rST75LIVUW-5"
      },
      "source": [
        "# Opt-in"
      ]
    },
    {
      "cell_type": "code",
      "execution_count": 18,
      "metadata": {
        "id": "qKH6KmCkUW-5"
      },
      "outputs": [
        {
          "name": "stdout",
          "output_type": "stream",
          "text": [
            "Signed transaction with txID: ZBMFY5GUH4HO3O4G24S6MZZIA6CJIMVBZPG32WO5FHUK3SWL2B3Q\n",
            "TXID:  ZBMFY5GUH4HO3O4G24S6MZZIA6CJIMVBZPG32WO5FHUK3SWL2B3Q\n",
            "Result confirmed in round: 5\n"
          ]
        }
      ],
      "source": [
        "# OPT-IN\n",
        "\n",
        "# Check if asset_id is in account 3's asset holdings prior\n",
        "# to opt-in\n",
        "params = algod_client.suggested_params()\n",
        "# comment these two lines if you want to use suggested params\n",
        "# params.fee = 1000\n",
        "# params.flat_fee = True\n",
        "\n",
        "account_info = algod_client.account_info(accounts[2]['pk'])\n",
        "holding = None\n",
        "idx = 0\n",
        "for my_account_info in account_info['assets']:\n",
        "    scrutinized_asset = account_info['assets'][idx]\n",
        "    idx = idx + 1\n",
        "    if (scrutinized_asset['asset-id'] == asset_id):\n",
        "        holding = True\n",
        "        break\n",
        "\n",
        "if not holding:\n",
        "\n",
        "    # Use the AssetTransferTxn class to transfer assets and opt-in\n",
        "    txn = AssetTransferTxn(\n",
        "        sender=accounts[2]['pk'],\n",
        "        sp=params,\n",
        "        receiver=accounts[2][\"pk\"],\n",
        "        amt=0,\n",
        "        index=asset_id)\n",
        "    stxn = txn.sign(accounts[2]['sk'])\n",
        "    # Send the transaction to the network and retrieve the txid.\n",
        "    try:\n",
        "        txid = algod_client.send_transaction(stxn)\n",
        "        print(\"Signed transaction with txID: {}\".format(txid))\n",
        "        # Wait for the transaction to be confirmed\n",
        "        confirmed_txn = wait_for_confirmation(algod_client, txid, 4)\n",
        "        print(\"TXID: \", txid)\n",
        "        print(\"Result confirmed in round: {}\".format(confirmed_txn['confirmed-round']))\n",
        "\n",
        "    except Exception as err:\n",
        "        print(err)\n",
        "    # Now check the asset holding for that account.\n",
        "    # This should now show a holding with a balance of 0.\n",
        "    print_asset_holding(algod_client, accounts[3]['pk'], asset_id)\n"
      ]
    },
    {
      "cell_type": "markdown",
      "metadata": {
        "id": "qcGIufBOUW-6"
      },
      "source": [
        "# Asset Transfer"
      ]
    },
    {
      "cell_type": "code",
      "execution_count": 19,
      "metadata": {
        "id": "-YbG-pJGUW-6",
        "outputId": "a05c8f84-19a4-45b1-92e1-febcde2455e3"
      },
      "outputs": [
        {
          "name": "stdout",
          "output_type": "stream",
          "text": [
            "Signed transaction with txID: DCSNMCFJH7BHKUL3242CZHL44NSI6DOLGQD3KVVH4E4XHBRKJ3GQ\n",
            "TXID:  DCSNMCFJH7BHKUL3242CZHL44NSI6DOLGQD3KVVH4E4XHBRKJ3GQ\n",
            "Result confirmed in round: 6\n",
            "Asset ID: 1004\n",
            "{\n",
            "    \"amount\": 100,\n",
            "    \"asset-id\": 1004,\n",
            "    \"is-frozen\": false\n",
            "}\n"
          ]
        }
      ],
      "source": [
        "# transfer asset of 10 from account 1 to account 3\n",
        "params = algod_client.suggested_params()\n",
        "# comment these two lines if you want to use suggested params\n",
        "# params.fee = 1000\n",
        "# params.flat_fee = True\n",
        "txn = AssetTransferTxn(\n",
        "    sender=accounts[1]['pk'],\n",
        "    sp=params,\n",
        "    receiver=accounts[2][\"pk\"],\n",
        "    amt=100,\n",
        "    index=asset_id)\n",
        "stxn = txn.sign(accounts[1]['sk'])\n",
        "# Send the transaction to the network and retrieve the txid.\n",
        "try:\n",
        "    txid = algod_client.send_transaction(stxn)\n",
        "    print(\"Signed transaction with txID: {}\".format(txid))\n",
        "    # Wait for the transaction to be confirmed\n",
        "    confirmed_txn = wait_for_confirmation(algod_client, txid, 4)\n",
        "    print(\"TXID: \", txid)\n",
        "    print(\"Result confirmed in round: {}\".format(confirmed_txn['confirmed-round']))\n",
        "\n",
        "except Exception as err:\n",
        "    print(err)\n",
        "# The balance should now be 10.\n",
        "print_asset_holding(algod_client, accounts[2]['pk'], asset_id)\n"
      ]
    },
    {
      "cell_type": "markdown",
      "metadata": {
        "id": "2omIE3bjUW-6"
      },
      "source": [
        "# Asset Freeze"
      ]
    },
    {
      "cell_type": "code",
      "execution_count": 20,
      "metadata": {
        "id": "RWVa-M1kUW-6",
        "outputId": "30c73d76-4fea-42bf-defc-d9569de417af"
      },
      "outputs": [
        {
          "name": "stdout",
          "output_type": "stream",
          "text": [
            "Signed transaction with txID: IUDPW7ORZUV4WM4Y66IQOZ32SW45ARWYGTC7YD2RLX7TIOZKKEQA\n",
            "TXID:  IUDPW7ORZUV4WM4Y66IQOZ32SW45ARWYGTC7YD2RLX7TIOZKKEQA\n",
            "Result confirmed in round: 7\n"
          ]
        }
      ],
      "source": [
        "params = algod_client.suggested_params()\n",
        "\n",
        "# The freeze address (Account 2) freezes Account 3's latinum holdings.\n",
        "\n",
        "txn = AssetFreezeTxn(\n",
        "    sender=accounts[1]['pk'],\n",
        "    sp=params,\n",
        "    index=asset_id,\n",
        "    target=accounts[2][\"pk\"],\n",
        "    new_freeze_state=True\n",
        "    )\n",
        "stxn = txn.sign(accounts[1]['sk'])\n",
        "# Send the transaction to the network and retrieve the txid.\n",
        "try:\n",
        "    txid = algod_client.send_transaction(stxn)\n",
        "    print(\"Signed transaction with txID: {}\".format(txid))\n",
        "    # Wait for the transaction to be confirmed\n",
        "    confirmed_txn = wait_for_confirmation(algod_client, txid, 4)\n",
        "    print(\"TXID: \", txid)\n",
        "    print(\"Result confirmed in round: {}\".format(confirmed_txn['confirmed-round']))\n",
        "except Exception as err:\n",
        "    print(err)\n",
        "# The balance should now be 10 with frozen set to true.\n",
        "print_asset_holding(algod_client, accounts[3]['pk'], asset_id)"
      ]
    },
    {
      "cell_type": "markdown",
      "metadata": {
        "id": "kuxYHCtjUW-6"
      },
      "source": [
        "# Revoke Asset"
      ]
    },
    {
      "cell_type": "code",
      "execution_count": 21,
      "metadata": {
        "id": "9Ojipf_hUW-6",
        "outputId": "46be1e3b-3683-4820-92e6-9dc8ba1380e4"
      },
      "outputs": [
        {
          "name": "stdout",
          "output_type": "stream",
          "text": [
            "Signed transaction with txID: CKF6HTJQLPW2CVT3GDLAKYUFVIZPREUVY5HOHM2LBH73CMSNZ3UQ\n",
            "TXID:  CKF6HTJQLPW2CVT3GDLAKYUFVIZPREUVY5HOHM2LBH73CMSNZ3UQ\n",
            "Result confirmed in round: 8\n",
            "Account 2\n",
            "Asset ID: 1004\n",
            "{\n",
            "    \"amount\": 0,\n",
            "    \"asset-id\": 1004,\n",
            "    \"is-frozen\": true\n",
            "}\n",
            "Account 1\n",
            "Asset ID: 1004\n",
            "{\n",
            "    \"amount\": 1000,\n",
            "    \"asset-id\": 1004,\n",
            "    \"is-frozen\": false\n",
            "}\n"
          ]
        }
      ],
      "source": [
        "# The clawback address (Account 2) revokes 10 latinum from Account 3 and places it back with Account 1.\n",
        "params = algod_client.suggested_params()\n",
        "# comment these two lines if you want to use suggested params\n",
        "# params.fee = 1000\n",
        "# params.flat_fee = True\n",
        "\n",
        "# Must be signed by the account that is the Asset's clawback address\n",
        "txn = AssetTransferTxn(\n",
        "    sender=accounts[1]['pk'],\n",
        "    sp=params,\n",
        "    receiver=accounts[1][\"pk\"],\n",
        "    amt=100,\n",
        "    index=asset_id,\n",
        "    revocation_target=accounts[2]['pk']\n",
        "    )\n",
        "stxn = txn.sign(accounts[1]['sk'])\n",
        "# Send the transaction to the network and retrieve the txid.\n",
        "try:\n",
        "    txid = algod_client.send_transaction(stxn)\n",
        "    print(\"Signed transaction with txID: {}\".format(txid))\n",
        "    # Wait for the transaction to be confirmed\n",
        "    confirmed_txn = wait_for_confirmation(algod_client, txid, 4)\n",
        "    print(\"TXID: \", txid)\n",
        "    print(\"Result confirmed in round: {}\".format(confirmed_txn['confirmed-round']))\n",
        "except Exception as err:\n",
        "    print(err)\n",
        "# The balance of account 2 should now be 0.\n",
        "# account_info = algod_client.account_info(accounts[2]['pk'])\n",
        "print(\"Account 2\")\n",
        "print_asset_holding(algod_client, accounts[2]['pk'], asset_id)\n",
        "\n",
        "# The balance of account 1 should increase by 200 to 1000.\n",
        "print(\"Account 1\")\n",
        "print_asset_holding(algod_client, accounts[1]['pk'], asset_id)"
      ]
    },
    {
      "cell_type": "markdown",
      "metadata": {
        "id": "CPGV5xWIUW-7"
      },
      "source": [
        "# Destroy Asset"
      ]
    },
    {
      "cell_type": "code",
      "execution_count": 22,
      "metadata": {
        "id": "8KnyK12tUW-7",
        "outputId": "ef36060e-8812-411f-ad08-de32178bddb7"
      },
      "outputs": [
        {
          "name": "stdout",
          "output_type": "stream",
          "text": [
            "TransactionPool.Remember: transaction RGVIU4P3LCKTYRXQWKN2GSB6BNDLRXZRZRG6KSBDIUONV3NFURMA: this transaction should be issued by the manager. It is issued by J3YO6ADM3FVYTJGHZI4SQHOT6424JCVNC3LNITLG3T5FOXBYSOPNRUYHQA, manager key A3EOTTXDHC2NWUVTNNHIDU3UT6D7X6QCYNLWY5D2TJSJNZCFH3FYXDOC6U\n",
            "Account 2 must do a transaction for an amount of 0, \n",
            "with a close_assets_to to the creator account, to clear it from its accountholdings\n",
            "For Account 1, nothing should print after this as the asset is destroyed on the creator account\n",
            "Asset ID: 1004\n",
            "{\n",
            "    \"amount\": 1000,\n",
            "    \"asset-id\": 1004,\n",
            "    \"is-frozen\": false\n",
            "}\n",
            "Asset ID: 1004\n",
            "{\n",
            "    \"clawback\": \"A3EOTTXDHC2NWUVTNNHIDU3UT6D7X6QCYNLWY5D2TJSJNZCFH3FYXDOC6U\",\n",
            "    \"creator\": \"A3EOTTXDHC2NWUVTNNHIDU3UT6D7X6QCYNLWY5D2TJSJNZCFH3FYXDOC6U\",\n",
            "    \"decimals\": 0,\n",
            "    \"default-frozen\": false,\n",
            "    \"freeze\": \"A3EOTTXDHC2NWUVTNNHIDU3UT6D7X6QCYNLWY5D2TJSJNZCFH3FYXDOC6U\",\n",
            "    \"manager\": \"A3EOTTXDHC2NWUVTNNHIDU3UT6D7X6QCYNLWY5D2TJSJNZCFH3FYXDOC6U\",\n",
            "    \"name\": \"latinum\",\n",
            "    \"name-b64\": \"bGF0aW51bQ==\",\n",
            "    \"reserve\": \"A3EOTTXDHC2NWUVTNNHIDU3UT6D7X6QCYNLWY5D2TJSJNZCFH3FYXDOC6U\",\n",
            "    \"total\": 1000,\n",
            "    \"unit-name\": \"LATINUM\",\n",
            "    \"unit-name-b64\": \"TEFUSU5VTQ==\",\n",
            "    \"url\": \"https://path/to/my/asset/details\",\n",
            "    \"url-b64\": \"aHR0cHM6Ly9wYXRoL3RvL215L2Fzc2V0L2RldGFpbHM=\"\n",
            "}\n"
          ]
        }
      ],
      "source": [
        "# With all assets back in the creator's account,\n",
        "# the manager (Account 3) destroys the asset.\n",
        "params = algod_client.suggested_params()\n",
        "# comment these two lines if you want to use suggested params\n",
        "# params.fee = 1000\n",
        "# params.flat_fee = True\n",
        "\n",
        "# Asset destroy transaction\n",
        "txn = AssetConfigTxn(\n",
        "    sender=accounts[3]['pk'],\n",
        "    sp=params,\n",
        "    index=asset_id,\n",
        "    strict_empty_address_check=False\n",
        "    )\n",
        "\n",
        "# Sign with secret key of creator\n",
        "stxn = txn.sign(accounts[3]['sk'])\n",
        "# Send the transaction to the network and retrieve the txid.\n",
        "# Send the transaction to the network and retrieve the txid.\n",
        "try:\n",
        "    txid = algod_client.send_transaction(stxn)\n",
        "    print(\"Signed transaction with txID: {}\".format(txid))\n",
        "    # Wait for the transaction to be confirmed\n",
        "    confirmed_txn = wait_for_confirmation(algod_client, txid, 4)\n",
        "    print(\"TXID: \", txid)\n",
        "    print(\"Result confirmed in round: {}\".format(confirmed_txn['confirmed-round']))\n",
        "except Exception as err:\n",
        "    print(err)\n",
        "\n",
        "# Asset was deleted.\n",
        "try:\n",
        "    print(\"Account 2 must do a transaction for an amount of 0, \" )\n",
        "    print(\"with a close_assets_to to the creator account, to clear it from its accountholdings\")\n",
        "    print(\"For Account 1, nothing should print after this as the asset is destroyed on the creator account\")\n",
        "\n",
        "    print_asset_holding(algod_client, accounts[1]['pk'], asset_id)\n",
        "    print_created_asset(algod_client, accounts[1]['pk'], asset_id)\n",
        "    # asset_info = algod_client.asset_info(asset_id)\n",
        "except Exception as e:\n",
        "    print(e)"
      ]
    }
  ],
  "metadata": {
    "colab": {
      "provenance": []
    },
    "kernelspec": {
      "display_name": "Python 3.10.6 ('env': venv)",
      "language": "python",
      "name": "python3"
    },
    "language_info": {
      "codemirror_mode": {
        "name": "ipython",
        "version": 3
      },
      "file_extension": ".py",
      "mimetype": "text/x-python",
      "name": "python",
      "nbconvert_exporter": "python",
      "pygments_lexer": "ipython3",
      "version": "3.12.1"
    },
    "orig_nbformat": 4,
    "vscode": {
      "interpreter": {
        "hash": "6b82b825d5d4833af3b1c89f0eb6563ff3c71e7496afb1979116998712d4e4f0"
      }
    }
  },
  "nbformat": 4,
  "nbformat_minor": 0
}
